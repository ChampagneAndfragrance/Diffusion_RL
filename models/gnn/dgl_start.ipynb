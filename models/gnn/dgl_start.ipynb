{
 "cells": [
  {
   "cell_type": "code",
   "execution_count": 11,
   "metadata": {},
   "outputs": [
    {
     "name": "stdout",
     "output_type": "stream",
     "text": [
      "torch.Size([1, 3840, 8])\n",
      "torch.Size([64, 60, 8])\n"
     ]
    }
   ],
   "source": [
    "import torch\n",
    "import torch.nn as nn\n",
    "import dgl\n",
    "import dgl.nn as dglnn\n",
    "# # Test on converting from lstm output to graph input\n",
    "# batch_size = 64\n",
    "# hidden_dim = 8\n",
    "# num_agents = 60\n",
    "# lstm_output = torch.randn((batch_size * num_agents, hidden_dim)).requires_grad_()\n",
    "\n",
    "batch_size = 64\n",
    "seq_len = 5\n",
    "num_agents = 60\n",
    "features = 2\n",
    "hidden_dim = 8\n",
    "\n",
    "input_tensor = torch.randn((batch_size, seq_len, num_agents, features))\n",
    "permuted = input_tensor.permute(0, 2, 1, 3).contiguous() # (batch_size, num_agents, seq_len, features)\n",
    "lstm_input = permuted.view(batch_size * num_agents, seq_len, features)\n",
    "\n",
    "lstm_layer = nn.LSTM(input_size=features, \n",
    "                hidden_size=hidden_dim, \n",
    "                num_layers=1, \n",
    "                batch_first=True)\n",
    "\n",
    "out, (hn, cn) = lstm_layer(lstm_input)\n",
    "print(hn.shape)\n",
    "\n",
    "reshaped = hn.view(batch_size, num_agents, hidden_dim)\n",
    "print(reshaped.shape)\n",
    "\n",
    "graph_list = []\n",
    "\n",
    "test_list = range(num_agents)\n",
    "edges = list(combinations(test_list, 2))\n",
    "start_nodes = [i[0] for i in edges]\n",
    "end_nodes = [i[1] for i in edges]\n",
    "\n",
    "for i in range(batch_size):\n",
    "    x = reshaped[i]\n",
    "    s = torch.tensor(start_nodes)\n",
    "    e = torch.tensor(end_nodes)\n",
    "    g = dgl.graph((s, e))\n",
    "    g.ndata['x'] = reshaped[i]\n",
    "\n",
    "    graph_list.append(g)\n",
    "\n",
    "batched_graphs = dgl.batch(graph_list)\n",
    "\n",
    "print(batched_graphs.batch_num_nodes())\n"
   ]
  },
  {
   "cell_type": "code",
   "execution_count": 10,
   "metadata": {},
   "outputs": [
    {
     "name": "stdout",
     "output_type": "stream",
     "text": [
      "2016\n",
      "2016\n"
     ]
    }
   ],
   "source": [
    "from itertools import combinations\n",
    "import torch\n",
    "test_list = range(64)\n",
    "\n",
    "edges = list(combinations(test_list, 2))\n",
    "start_nodes = [i[0] for i in edges]\n",
    "end_nodes = [i[1] for i in edges]\n",
    "\n",
    "print(len(start_nodes))\n",
    "print(len(end_nodes))\n",
    "\n",
    "# b = torch.tensor(a)\n",
    "\n",
    "# print(len(a))\n",
    "# print(b)\n"
   ]
  },
  {
   "cell_type": "code",
   "execution_count": 7,
   "metadata": {},
   "outputs": [
    {
     "name": "stdout",
     "output_type": "stream",
     "text": [
      "Graph(num_nodes=15, num_edges=45,\n",
      "      ndata_schemes={}\n",
      "      edata_schemes={})\n",
      "tensor([[3.],\n",
      "        [3.],\n",
      "        [3.],\n",
      "        [3.],\n",
      "        [3.],\n",
      "        [3.],\n",
      "        [3.],\n",
      "        [3.],\n",
      "        [3.],\n",
      "        [3.],\n",
      "        [3.],\n",
      "        [3.],\n",
      "        [3.],\n",
      "        [3.],\n",
      "        [3.]])\n"
     ]
    }
   ],
   "source": [
    "from dgl.data import MiniGCDataset\n",
    "dataset = MiniGCDataset(80, 10, 20)\n",
    "graph, label = dataset[0]\n",
    "\n",
    "# print(dataset[0])\n",
    "# print(dataset[0][0].ndata['h'].shape)\n",
    "g = dataset[0][0]\n",
    "h = g.in_degrees().view(-1, 1).float()\n",
    "print(g)\n",
    "print(h)"
   ]
  }
 ],
 "metadata": {
  "interpreter": {
   "hash": "f0c3bfbc0528239c32ebf5b583237c33afb2ab3d4f242283158514eeade34da9"
  },
  "kernelspec": {
   "display_name": "Python 3.9.9 ('prisoner_auto')",
   "language": "python",
   "name": "python3"
  },
  "language_info": {
   "codemirror_mode": {
    "name": "ipython",
    "version": 3
   },
   "file_extension": ".py",
   "mimetype": "text/x-python",
   "name": "python",
   "nbconvert_exporter": "python",
   "pygments_lexer": "ipython3",
   "version": "3.9.9"
  },
  "orig_nbformat": 4
 },
 "nbformat": 4,
 "nbformat_minor": 2
}
