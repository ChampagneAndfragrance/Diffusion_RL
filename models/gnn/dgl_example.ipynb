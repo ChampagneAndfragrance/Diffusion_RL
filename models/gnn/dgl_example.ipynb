{
 "cells": [
  {
   "cell_type": "code",
   "execution_count": 32,
   "metadata": {},
   "outputs": [
    {
     "name": "stdout",
     "output_type": "stream",
     "text": [
      "3\n",
      "tensor([4, 3, 5])\n",
      "tensor([12,  6, 20])\n"
     ]
    }
   ],
   "source": [
    "import dgl\n",
    "import dgl.nn as dglnn\n",
    "import torch.nn as nn\n",
    "import torch.nn.functional as F\n",
    "import torch\n",
    "from itertools import combinations\n",
    "\n",
    "def fully_connected(num_nodes):\n",
    "    test_list = range(num_nodes)\n",
    "    edges = list(combinations(test_list, 2))\n",
    "    start_nodes = [i[0] for i in edges]\n",
    "    end_nodes = [i[1] for i in edges]\n",
    "    return torch.tensor(start_nodes), torch.tensor(end_nodes)\n",
    "\n",
    "# https://docs.dgl.ai/en/0.6.x/generated/dgl.batch.html\n",
    "# g1 = dgl.graph((torch.tensor([0, 1, 2, 2]), torch.tensor([1, 2, 3, 1]))) # This is 4 nodes\n",
    "g1 = dgl.graph(fully_connected(4))\n",
    "a = torch.randn(4, 3) # num nodes x num features\n",
    "# print(type(g1))\n",
    "g1 = dgl.to_homogeneous(g1)\n",
    "g1 = dgl.add_reverse_edges(g1)\n",
    "\n",
    "# g2 = dgl.graph((torch.tensor([0, 0, 0, 1]), torch.tensor([0, 1, 2, 0]))) # This is 3 nodes\n",
    "g2 = dgl.graph(fully_connected(3))\n",
    "b= torch.randn(3, 3)\n",
    "g2 = dgl.add_reverse_edges(dgl.to_homogeneous(g2))\n",
    "\n",
    "# g3 = dgl.graph((torch.tensor([0, 0, 0, 1, 2, 4]), torch.tensor([0, 1, 2, 0, 3, 0])))\n",
    "g3 = dgl.graph(fully_connected(5))\n",
    "c = torch.randn(5, 3)\n",
    "g3 = dgl.add_reverse_edges(dgl.to_homogeneous(g3))\n",
    "\n",
    "\n",
    "bg = dgl.batch([g1, g2, g3])\n",
    "# bg = dgl.add_reverse_edges(bg)\n",
    "print(bg.batch_size)\n",
    "print(bg.batch_num_nodes())\n",
    "print(bg.batch_num_edges())\n",
    "\n",
    "# h = g1.in_degrees().view(-1, 1).float()\n",
    "# h = bg.ndata['h']\n",
    "# print(h.shape)\n",
    "# print(h)\n"
   ]
  },
  {
   "cell_type": "code",
   "execution_count": 35,
   "metadata": {},
   "outputs": [
    {
     "name": "stdout",
     "output_type": "stream",
     "text": [
      "torch.Size([12, 3])\n",
      "torch.Size([12, 8])\n",
      "tensor([[-0.3521, -0.0996, -0.6933,  0.7285,  0.4690,  0.3049, -0.5690, -0.0132],\n",
      "        [ 0.1832,  0.1552,  0.3596, -0.3692, -0.3798, -0.3125,  0.3494, -0.1877],\n",
      "        [-0.4008, -0.0981,  0.0583,  0.0159, -0.0427,  0.5975, -0.3282,  0.1869]],\n",
      "       grad_fn=<DivBackward0>)\n"
     ]
    }
   ],
   "source": [
    "import dgl\n",
    "import numpy as np\n",
    "import torch as th\n",
    "from dgl.nn import GraphConv\n",
    "from dgl.nn import AvgPooling\n",
    "# g = dgl.graph(([0,1,2,3,2,5], [1,2,3,4,0,3]))\n",
    "# g = dgl.add_self_loop(g)\n",
    "# feat = torch.ones(6, 10)\n",
    "\n",
    "# in features, out features\n",
    "feats = torch.cat([a, b, c])\n",
    "print(feats.shape) # 12, 3 - they're just stacked column wise\n",
    "conv = GraphConv(3, 8, norm='both', weight=True, bias=True)\n",
    "res = conv(bg, feats)\n",
    "\n",
    "print(res.shape)\n",
    "\n",
    "avgpool = AvgPooling()  # create an average pooling layer\n",
    "res2 = avgpool(bg, res) # number of graphs x features\n",
    "\n",
    "print(res2)"
   ]
  },
  {
   "cell_type": "code",
   "execution_count": 5,
   "metadata": {},
   "outputs": [],
   "source": [
    "\n",
    "class SAGE(nn.Module):\n",
    "    def __init__(self, in_feats, hid_feats, out_feats):\n",
    "        super().__init__()\n",
    "        self.conv1 = dglnn.SAGEConv(\n",
    "            in_feats=in_feats, out_feats=hid_feats, aggregator_type='mean')\n",
    "        self.conv2 = dglnn.SAGEConv(\n",
    "            in_feats=hid_feats, out_feats=out_feats, aggregator_type='mean')\n",
    "\n",
    "    def forward(self, graph, inputs):\n",
    "        # inputs are features of nodes\n",
    "        h = self.conv1(graph, inputs)\n",
    "        h = F.relu(h)\n",
    "        h = self.conv2(graph, h)\n",
    "        return h\n",
    "        "
   ]
  },
  {
   "cell_type": "code",
   "execution_count": 4,
   "metadata": {},
   "outputs": [
    {
     "name": "stdout",
     "output_type": "stream",
     "text": [
      "SAGE(\n",
      "  (conv1): SAGEConv(\n",
      "    (feat_drop): Dropout(p=0.0, inplace=False)\n",
      "    (fc_self): Linear(in_features=10, out_features=5, bias=False)\n",
      "    (fc_neigh): Linear(in_features=10, out_features=5, bias=False)\n",
      "  )\n",
      "  (conv2): SAGEConv(\n",
      "    (feat_drop): Dropout(p=0.0, inplace=False)\n",
      "    (fc_self): Linear(in_features=5, out_features=2, bias=False)\n",
      "    (fc_neigh): Linear(in_features=5, out_features=2, bias=False)\n",
      "  )\n",
      ")\n"
     ]
    }
   ],
   "source": [
    "node_features = graph.ndata['feat']\n",
    "node_labels = graph.ndata['label']\n",
    "train_mask = graph.ndata['train_mask']\n",
    "valid_mask = graph.ndata['val_mask']\n",
    "test_mask = graph.ndata['test_mask']\n",
    "n_features = node_features.shape[1]\n",
    "n_labels = int(node_labels.max().item() + 1)\n",
    "\n",
    "model = SAGE(in_feats=n_features, hid_feats=100, out_feats=n_labels)\n",
    "opt = torch.optim.Adam(model.parameters())\n",
    "\n",
    "for epoch in range(10):\n",
    "    model.train()\n",
    "    # forward propagation by using all nodes\n",
    "    logits = model(graph, node_features)\n",
    "    # compute loss\n",
    "    loss = F.cross_entropy(logits[train_mask], node_labels[train_mask])\n",
    "    # compute validation accuracy\n",
    "    acc = evaluate(model, graph, node_features, node_labels, valid_mask)\n",
    "    # backward propagation\n",
    "    opt.zero_grad()\n",
    "    loss.backward()\n",
    "    opt.step()\n",
    "    print(loss.item())\n",
    "\n",
    "    # Save model if necessary.  Omitted in this example."
   ]
  }
 ],
 "metadata": {
  "interpreter": {
   "hash": "f0c3bfbc0528239c32ebf5b583237c33afb2ab3d4f242283158514eeade34da9"
  },
  "kernelspec": {
   "display_name": "Python 3.9.9 ('prisoner_auto')",
   "language": "python",
   "name": "python3"
  },
  "language_info": {
   "codemirror_mode": {
    "name": "ipython",
    "version": 3
   },
   "file_extension": ".py",
   "mimetype": "text/x-python",
   "name": "python",
   "nbconvert_exporter": "python",
   "pygments_lexer": "ipython3",
   "version": "3.9.9"
  },
  "orig_nbformat": 4
 },
 "nbformat": 4,
 "nbformat_minor": 2
}
