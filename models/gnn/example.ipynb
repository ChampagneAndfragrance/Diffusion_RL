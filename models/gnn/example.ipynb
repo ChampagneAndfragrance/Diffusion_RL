{
 "cells": [
  {
   "cell_type": "code",
   "execution_count": 3,
   "metadata": {},
   "outputs": [
    {
     "name": "stdout",
     "output_type": "stream",
     "text": [
      "(Graph(num_nodes=15, num_edges=45,\n",
      "      ndata_schemes={}\n",
      "      edata_schemes={}), tensor(0))\n"
     ]
    }
   ],
   "source": []
  },
  {
   "cell_type": "code",
   "execution_count": 1,
   "metadata": {},
   "outputs": [
    {
     "name": "stdout",
     "output_type": "stream",
     "text": [
      "Data(x=[3, 2], edge_index=[2, 4])\n"
     ]
    }
   ],
   "source": [
    "import torch\n",
    "from torch_geometric.data import Data\n",
    "\n",
    "edge_index = torch.tensor([[0, 1, 1, 2],\n",
    "                           [1, 0, 2, 1]], dtype=torch.long)\n",
    "x = torch.tensor([[-1, 2], [0, 3], [1, 5]], dtype=torch.float)\n",
    "\n",
    "# x represents nodes and node features\n",
    "# edges represent the edges between nodes\n",
    "data = Data(x=x, edge_index=edge_index)\n",
    "print(data)\n",
    "# Data(edge_index=[2, 4], x=[3, 1])"
   ]
  },
  {
   "cell_type": "code",
   "execution_count": 3,
   "metadata": {},
   "outputs": [
    {
     "data": {
      "text/plain": [
       "Data(edge_index=[2, 168], x=[37, 3], y=[1])"
      ]
     },
     "execution_count": 3,
     "metadata": {},
     "output_type": "execute_result"
    }
   ],
   "source": [
    "from torch_geometric.datasets import TUDataset\n",
    "dataset = TUDataset(root='/tmp/ENZYMES', name='ENZYMES')\n",
    "\n",
    "dataset[0]"
   ]
  },
  {
   "cell_type": "code",
   "execution_count": 8,
   "metadata": {},
   "outputs": [],
   "source": [
    "# Test on how to format agents to use data\n",
    "batch_size = 5\n",
    "seq_len = 3\n",
    "num_agents = 4\n",
    "features = 2\n",
    "\n",
    "test = torch.randn((batch_size, seq_len, num_agents, features))\n",
    "permuted = test.permute(0, 2, 1, 3).contiguous() # (batch_size, num_agents, seq_len, features)\n",
    "lstm_input = permuted.view(batch_size * num_agents, seq_len, features)\n",
    "\n",
    "print(lstm_input.shape)"
   ]
  },
  {
   "cell_type": "code",
   "execution_count": null,
   "metadata": {},
   "outputs": [
    {
     "ename": "",
     "evalue": "",
     "output_type": "error",
     "traceback": [
      "\u001b[1;31mRunning cells with 'Python 3.8.13 ('rl')' requires ipykernel package.\n",
      "Run the following command to install 'ipykernel' into the Python environment. \n",
      "Command: 'conda install -n rl ipykernel --update-deps --force-reinstall'"
     ]
    }
   ],
   "source": [
    "import torch\n",
    "import torch.nn as nn\n",
    "from torch_geometric.data import Data\n",
    "from torch_geometric.data.batch import Batch\n",
    "from torch_geometric.nn import GCNConv\n",
    "# # Test on converting from lstm output to graph input\n",
    "# batch_size = 64\n",
    "# hidden_dim = 8\n",
    "# num_agents = 60\n",
    "# lstm_output = torch.randn((batch_size * num_agents, hidden_dim)).requires_grad_()\n",
    "\n",
    "batch_size = 64\n",
    "seq_len = 5\n",
    "num_agents = 60\n",
    "features = 2\n",
    "hidden_dim = 8\n",
    "\n",
    "input_tensor = torch.randn((batch_size, seq_len, num_agents, features))\n",
    "permuted = input_tensor.permute(0, 2, 1, 3).contiguous() # (batch_size, num_agents, seq_len, features)\n",
    "lstm_input = permuted.view(batch_size * num_agents, seq_len, features)\n",
    "\n",
    "lstm_layer = nn.LSTM(input_size=features, \n",
    "                hidden_size=hidden_dim, \n",
    "                num_layers=1, \n",
    "                batch_first=True)\n",
    "\n",
    "out, (hn, cn) = lstm_layer(lstm_input)\n",
    "print(hn.shape)\n",
    "\n",
    "reshaped = hn.view(batch_size, num_agents, hidden_dim)\n",
    "print(reshaped.shape)\n",
    "\n",
    "data_list = []\n",
    "for i in range(batch_size):\n",
    "    x = reshaped[i]\n",
    "    edge_index = torch.tensor([[0, 1, 1, 2],\n",
    "                           [1, 0, 2, 1]], dtype=torch.long)\n",
    "\n",
    "    data = Data(x=x, edge_index=edge_index)\n",
    "    data_list.append(data)\n",
    "    # print(data.x.requires_grad)\n",
    "# print(reshaped.shape)\n",
    "\n",
    "batch = Batch()\n",
    "batched_data = batch.from_data_list(data_list)\n",
    "\n",
    "conv1 = GCNConv(features, 16)\n",
    "print(conv1(batched_data).shape)\n",
    "\n",
    "# print(batched_data)\n",
    "# batched_data[0]\n"
   ]
  }
 ],
 "metadata": {
  "kernelspec": {
   "display_name": "Python 3.9.9 ('prisoner_auto')",
   "language": "python",
   "name": "python3"
  },
  "language_info": {
   "codemirror_mode": {
    "name": "ipython",
    "version": 3
   },
   "file_extension": ".py",
   "mimetype": "text/x-python",
   "name": "python",
   "nbconvert_exporter": "python",
   "pygments_lexer": "ipython3",
   "version": "3.9.9"
  },
  "orig_nbformat": 4,
  "vscode": {
   "interpreter": {
    "hash": "f0c3bfbc0528239c32ebf5b583237c33afb2ab3d4f242283158514eeade34da9"
   }
  }
 },
 "nbformat": 4,
 "nbformat_minor": 2
}
